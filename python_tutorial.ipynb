{
 "cells": [
  {
   "cell_type": "markdown",
   "metadata": {},
   "source": [
    "编程语言简单来看可以分成以下四部分\n",
    "\n",
    "- 语法规则\n",
    "- 控制逻辑\n",
    "- 数据类型\n",
    "- 函数和方法"
   ]
  },
  {
   "cell_type": "markdown",
   "metadata": {},
   "source": [
    "## 语法规则"
   ]
  },
  {
   "cell_type": "markdown",
   "metadata": {},
   "source": [
    "## 控制逻辑"
   ]
  },
  {
   "cell_type": "markdown",
   "metadata": {},
   "source": [
    "控制逻辑包括 for 循环， 以及 if-else 结构"
   ]
  },
  {
   "cell_type": "code",
   "execution_count": null,
   "metadata": {},
   "outputs": [],
   "source": [
    "for i in range(10):\n",
    "    print(i)\n",
    "    \n",
    "if 100 > 10:\n",
    "    print(\"hello world\")"
   ]
  },
  {
   "cell_type": "markdown",
   "metadata": {},
   "source": [
    "检查下列单元 有什么bug"
   ]
  },
  {
   "cell_type": "code",
   "execution_count": null,
   "metadata": {},
   "outputs": [],
   "source": [
    "if he is beautiful:\n",
    "    print('Hello handsome')"
   ]
  },
  {
   "cell_type": "markdown",
   "metadata": {},
   "source": [
    "## 数据类型"
   ]
  },
  {
   "cell_type": "markdown",
   "metadata": {},
   "source": [
    "python内置的数据类型\n",
    "\n",
    "基础数据类型\n",
    "- int\n",
    "- float\n",
    "- str\n",
    "- bool\n",
    "- None\n",
    "\n",
    "\n",
    "复杂数据类型\n",
    "- list\n",
    "- tuple\n",
    "- dict\n",
    "- set"
   ]
  },
  {
   "cell_type": "code",
   "execution_count": 3,
   "metadata": {},
   "outputs": [],
   "source": [
    "a = 1\n",
    "b = 1.0\n",
    "c = \"nihao\"\n",
    "d = True\n",
    "f = None\n",
    "e = []\n",
    "g = tuple((1,2))\n",
    "h = {1:1}\n",
    "i = set((1,1,2))"
   ]
  },
  {
   "cell_type": "code",
   "execution_count": 6,
   "metadata": {},
   "outputs": [],
   "source": [
    "lst =  [a,b,c,d,e,f,g,h,i]"
   ]
  },
  {
   "cell_type": "code",
   "execution_count": null,
   "metadata": {},
   "outputs": [],
   "source": [
    "for x in lst:\n",
    "    print(x, '\\t', type(x))"
   ]
  },
  {
   "cell_type": "markdown",
   "metadata": {},
   "source": [
    "检查下面模块有什么bug"
   ]
  },
  {
   "cell_type": "code",
   "execution_count": null,
   "metadata": {},
   "outputs": [],
   "source": [
    "person1 = biyu"
   ]
  },
  {
   "cell_type": "code",
   "execution_count": null,
   "metadata": {},
   "outputs": [],
   "source": [
    "num1 = \"1\"\n",
    "num2 = num1 + 1"
   ]
  },
  {
   "cell_type": "code",
   "execution_count": null,
   "metadata": {},
   "outputs": [],
   "source": [
    "num1 = \"1\"\n",
    "num3 = num1 * 10"
   ]
  },
  {
   "cell_type": "markdown",
   "metadata": {},
   "source": [
    "内置数据类型的转化"
   ]
  },
  {
   "cell_type": "code",
   "execution_count": 11,
   "metadata": {},
   "outputs": [],
   "source": [
    "aa = float(a)\n",
    "bb = str(b)\n",
    "cc = \"11\"\n",
    "dd = int(\"11\")\n",
    "lst = [aa, bb, cc, dd]"
   ]
  },
  {
   "cell_type": "code",
   "execution_count": null,
   "metadata": {},
   "outputs": [],
   "source": [
    "for x in lst:\n",
    "    print(x, '\\t', type(x))"
   ]
  },
  {
   "cell_type": "markdown",
   "metadata": {},
   "source": [
    "## 函数与调用"
   ]
  },
  {
   "cell_type": "markdown",
   "metadata": {},
   "source": [
    "- 函数的作用\n",
    "- 变量的作用域（scope）\n",
    "- 临时变量与全局变量的区别"
   ]
  },
  {
   "cell_type": "code",
   "execution_count": null,
   "metadata": {},
   "outputs": [],
   "source": [
    "def function1(a):\n",
    "    return a + 2\n",
    "\n",
    "print(function1(2))"
   ]
  },
  {
   "cell_type": "markdown",
   "metadata": {},
   "source": [
    "检查下面代码有什么bug"
   ]
  },
  {
   "cell_type": "code",
   "execution_count": null,
   "metadata": {},
   "outputs": [],
   "source": [
    "v = 1\n",
    "def function2(v):\n",
    "    return v\n",
    "print(2)"
   ]
  }
 ],
 "metadata": {
  "kernelspec": {
   "display_name": "base",
   "language": "python",
   "name": "python3"
  },
  "language_info": {
   "codemirror_mode": {
    "name": "ipython",
    "version": 3
   },
   "file_extension": ".py",
   "mimetype": "text/x-python",
   "name": "python",
   "nbconvert_exporter": "python",
   "pygments_lexer": "ipython3",
   "version": "3.11.4"
  }
 },
 "nbformat": 4,
 "nbformat_minor": 2
}
